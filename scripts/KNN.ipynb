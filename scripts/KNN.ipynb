{
  "nbformat": 4,
  "nbformat_minor": 0,
  "metadata": {
    "colab": {
      "provenance": []
    },
    "kernelspec": {
      "name": "python3",
      "display_name": "Python 3"
    },
    "language_info": {
      "name": "python"
    }
  },
  "cells": [
    {
      "cell_type": "code",
      "execution_count": null,
      "metadata": {
        "id": "pui61bFTKhSA"
      },
      "outputs": [],
      "source": [
        "import numpy as np\n",
        "import pandas as pd\n",
        "import matplotlib.pyplot as plt\n",
        "from sklearn.neighbors import KNeighborsClassifier\n",
        "from sklearn import metrics\n",
        "from sklearn.model_selection import train_test_split\n",
        "\n",
        "# Function to train KNN \n",
        "def knn(x_train, y_train, x_test, y_test, n_neighbors=5):\n",
        "    knn = KNeighborsClassifier(n_neighbors=n_neighbors)\n",
        "    knn.fit(x_train, y_train)\n",
        "    y_pred = knn.predict(x_test)\n",
        "    accuracy = metrics.accuracy_score(y_test, y_pred)\n",
        "\n",
        "    return accuracy, knn\n",
        "\n",
        "# Load data from CSV's\n",
        "x_train = pd.read_csv(\"x_train.csv\")\n",
        "x_test = pd.read_csv(\"x_test.csv\")\n",
        "y_train = pd.read_csv(\"y_train.csv\").squeeze()\n",
        "y_test = pd.read_csv(\"y_test.csv\").squeeze()\n",
        "\n",
        "# Train and print the accuracy\n",
        "accuracy, knn_model = knn(x_train, y_train, x_test, y_test)\n",
        "print(\"Accuracy:\", accuracy)\n"
      ]
    }
  ]
}