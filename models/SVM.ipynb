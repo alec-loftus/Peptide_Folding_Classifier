{
  "nbformat": 4,
  "nbformat_minor": 0,
  "metadata": {
    "colab": {
      "provenance": [],
      "authorship_tag": "ABX9TyOaopZWL/rkyhXHh7IYrwKQ"
    },
    "kernelspec": {
      "name": "python3",
      "display_name": "Python 3"
    },
    "language_info": {
      "name": "python"
    }
  },
  "cells": [
    {
      "cell_type": "code",
      "source": [
        "!git clone https://github.com/rsethi21/Peptide_Folding_Classifier.git"
      ],
      "metadata": {
        "id": "f1cOiidy4D1D"
      },
      "execution_count": null,
      "outputs": []
    },
    {
      "cell_type": "code",
      "execution_count": null,
      "metadata": {
        "id": "wDbPYKNNZZdz"
      },
      "outputs": [],
      "source": [
        "from sklearn import svm\n",
        "from sklearn.model_selection import GridSearchCV\n",
        "from sklearn\n",
        "import numpy as np\n",
        "import pandas as pd\n",
        "import os"
      ]
    },
    {
      "cell_type": "code",
      "source": [
        "dataPath = './Peptide_Folding_Classifier/output/'"
      ],
      "metadata": {
        "id": "8QgC9a764PgF"
      },
      "execution_count": null,
      "outputs": []
    },
    {
      "cell_type": "code",
      "source": [
        "x_train = pd.read_csv(os.path.join(dataPath, './x_train.csv'))\n",
        "y_train = pd.read_csv(os.path.join(dataPath, './y_train.csv'))\n",
        "x_test = pd.read_csv(os.path.join(dataPath, './x_test.csv'))\n",
        "y_test = pd.read_csv(os.path.join(dataPath, './y_test.csv'))"
      ],
      "metadata": {
        "id": "w8nvcQj4Zxvo"
      },
      "execution_count": null,
      "outputs": []
    },
    {
      "cell_type": "code",
      "source": [
        "exponents = [-4, -2, 0, 2, 4]\n",
        "gamma = [10**n for n in exponents]\n",
        "C = [10**n for n in exponents]\n",
        "kernel = ['linear', 'rbf', 'poly']\n",
        "param_grid = {'C': C, 'gamma': gamma, 'kernel': kernel, 'decision_function_shape': decision}"
      ],
      "metadata": {
        "id": "wWll6Fg1cpLS"
      },
      "execution_count": null,
      "outputs": []
    },
    {
      "cell_type": "code",
      "source": [
        "g = GridSearchCV(SVC(probability=True), param_grid, refit = True, verbose = 3, cv=5)"
      ],
      "metadata": {
        "id": "z7eFQ7IydJIC"
      },
      "execution_count": null,
      "outputs": []
    },
    {
      "cell_type": "code",
      "source": [
        "g.fit(x_train, y_train)"
      ],
      "metadata": {
        "id": "LqwE6vCOdTXI"
      },
      "execution_count": null,
      "outputs": []
    },
    {
      "cell_type": "code",
      "source": [
        "SVMclassifier = grid.best_estimator_\n",
        "print(tuned_model_svm)\n",
        "print(grid.best_params_)"
      ],
      "metadata": {
        "id": "7r-Oz78yeu7Q"
      },
      "execution_count": null,
      "outputs": []
    },
    {
      "cell_type": "code",
      "source": [
        "SVMclassifier.predict(x_test)"
      ],
      "metadata": {
        "id": "8KSH3GnR5VqO"
      },
      "execution_count": null,
      "outputs": []
    },
    {
      "cell_type": "code",
      "source": [
        "y_test.isFolded"
      ],
      "metadata": {
        "id": "0N0wrNRy5kms"
      },
      "execution_count": null,
      "outputs": []
    }
  ]
}