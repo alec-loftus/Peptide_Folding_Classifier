{
  "nbformat": 4,
  "nbformat_minor": 0,
  "metadata": {
    "colab": {
      "provenance": []
    },
    "kernelspec": {
      "name": "python3",
      "display_name": "Python 3"
    },
    "language_info": {
      "name": "python"
    }
  },
  "cells": [
    {
      "cell_type": "code",
      "execution_count": null,
      "metadata": {
        "id": "-aQl87phIwtQ"
      },
      "outputs": [],
      "source": [
        "import numpy as np\n",
        "import pandas as pd\n",
        "import matplotlib.pyplot as plt\n",
        "from sklearn.ensemble import RandomForestClassifier\n",
        "from sklearn import metrics\n",
        "from sklearn.model_selection import train_test_split, GridSearchCV\n",
        "\n",
        "# Function to train RandomForest with GSCV (hyperparameter tuning)\n",
        "def train_random_forest(X_train, y_train, X_test, y_test):\n",
        "    rf = RandomForestClassifier(random_state=42)\n",
        "    param_grid = {'n_estimators': [10, 50, 100, 200],\n",
        "                  'max_depth': [None, 10, 20, 30],\n",
        "                  'min_samples_split': [2, 5, 10],\n",
        "                  'min_samples_leaf': [1, 2, 4]}\n",
        "    grid_search = GridSearchCV(rf, param_grid, cv=5, scoring='accuracy')\n",
        "    grid_search.fit(X_train, y_train)\n",
        "    y_pred = grid_search.predict(X_test)\n",
        "    accuracy = metrics.accuracy_score(y_test, y_pred)\n",
        "    return accuracy, grid_search.best_estimator_\n",
        "\n",
        "# Load data from the specified CSV\n",
        "X_train = pd.read_csv(\"/output/x_train.csv\")\n",
        "X_test = pd.read_csv(\"/output/x_test.csv\")\n",
        "y_train = pd.read_csv(\"/output/y_train.csv\").squeeze()\n",
        "y_test = pd.read_csv(\"/output/y_test.csv\").squeeze()\n",
        "\n",
        "# Train Random Forest and print accuracy \n",
        "accuracy, rf_model = train_random_forest(X_train, y_train, X_test, y_test)\n",
        "print(\"Accuracy:\", accuracy)\n"
      ]
    }
  ]
}